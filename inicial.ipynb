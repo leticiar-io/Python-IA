{
 "cells": [
  {
   "cell_type": "code",
   "execution_count": 6,
   "metadata": {},
   "outputs": [
    {
     "name": "stdout",
     "output_type": "stream",
     "text": [
      "<class 'pandas.core.frame.DataFrame'>\n",
      "RangeIndex: 100000 entries, 0 to 99999\n",
      "Data columns (total 25 columns):\n",
      " #   Column                    Non-Null Count   Dtype  \n",
      "---  ------                    --------------   -----  \n",
      " 0   id_cliente                100000 non-null  int64  \n",
      " 1   mes                       100000 non-null  int64  \n",
      " 2   idade                     100000 non-null  float64\n",
      " 3   profissao                 100000 non-null  int32  \n",
      " 4   salario_anual             100000 non-null  float64\n",
      " 5   num_contas                100000 non-null  float64\n",
      " 6   num_cartoes               100000 non-null  float64\n",
      " 7   juros_emprestimo          100000 non-null  float64\n",
      " 8   num_emprestimos           100000 non-null  float64\n",
      " 9   dias_atraso               100000 non-null  float64\n",
      " 10  num_pagamentos_atrasados  100000 non-null  float64\n",
      " 11  num_verificacoes_credito  100000 non-null  float64\n",
      " 12  mix_credito               100000 non-null  int32  \n",
      " 13  divida_total              100000 non-null  float64\n",
      " 14  taxa_uso_credito          100000 non-null  float64\n",
      " 15  idade_historico_credito   100000 non-null  float64\n",
      " 16  investimento_mensal       100000 non-null  float64\n",
      " 17  comportamento_pagamento   100000 non-null  int32  \n",
      " 18  saldo_final_mes           100000 non-null  float64\n",
      " 19  score_credito             100000 non-null  object \n",
      " 20  emprestimo_carro          100000 non-null  int64  \n",
      " 21  emprestimo_casa           100000 non-null  int64  \n",
      " 22  emprestimo_pessoal        100000 non-null  int64  \n",
      " 23  emprestimo_credito        100000 non-null  int64  \n",
      " 24  emprestimo_estudantil     100000 non-null  int64  \n",
      "dtypes: float64(14), int32(3), int64(7), object(1)\n",
      "memory usage: 17.9+ MB\n"
     ]
    },
    {
     "data": {
      "text/plain": [
       "None"
      ]
     },
     "metadata": {},
     "output_type": "display_data"
    }
   ],
   "source": [
    "# pip install pandas numpy scikit-learn\n",
    "\n",
    "# 1. Importar a base de dados\n",
    "import pandas as pd\n",
    "\n",
    "tabela_clientes = pd.read_csv('clientes.csv')\n",
    "\n",
    "#display(tabela_clientes)\n",
    "#print(tabela_clientes.info())\n",
    "\n",
    "# ---------------------------------------------------------\n",
    "# 2. Preparar a base de dados para inteligência artificial\n",
    "\n",
    "# Precisamos tratar os dados que estão em formato de texto para formato numérico, como assim? Por exemplo, engenheiro receberá o valor 1, advogado valor 2, etc.\n",
    "from sklearn.preprocessing import LabelEncoder\n",
    "\n",
    "codificador = LabelEncoder()\n",
    "tabela_clientes[\"profissao\"] = codificador.fit_transform(tabela_clientes[\"profissao\"])\n",
    "tabela_clientes[\"mix_credito\"] = codificador.fit_transform(tabela_clientes[\"mix_credito\"])\n",
    "tabela_clientes[\"comportamento_pagamento\"] = codificador.fit_transform(tabela_clientes[\"comportamento_pagamento\"])\n",
    "\n",
    "display(tabela_clientes.info())\n",
    "\n",
    "# ---------------------------------------------------------\n",
    "# 3. Criar o modelo de IA -> Prever o Score de Crédito, Bom, Ok, Ruim\n",
    "\n",
    "# 4. Escolher qual o melhor modelo de IA\n",
    "\n",
    "# 5. Usar a nossa IA para definir score de crédito dos clientes"
   ]
  }
 ],
 "metadata": {
  "kernelspec": {
   "display_name": "Python 3",
   "language": "python",
   "name": "python3"
  },
  "language_info": {
   "codemirror_mode": {
    "name": "ipython",
    "version": 3
   },
   "file_extension": ".py",
   "mimetype": "text/x-python",
   "name": "python",
   "nbconvert_exporter": "python",
   "pygments_lexer": "ipython3",
   "version": "3.12.2"
  }
 },
 "nbformat": 4,
 "nbformat_minor": 2
}
